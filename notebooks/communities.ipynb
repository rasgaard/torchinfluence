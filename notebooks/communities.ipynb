{
 "cells": [
  {
   "cell_type": "code",
   "execution_count": 1,
   "metadata": {},
   "outputs": [],
   "source": [
    "import networkx as nx\n",
    "import pandas as pd\n",
    "import torch\n",
    "from datasets import load_dataset\n",
    "from torch.utils.data import Dataset\n",
    "from transformers import AutoModelForSequenceClassification, AutoTokenizer\n",
    "\n",
    "from torchinfluence.methods import HFSeqClfGradientSimilarity\n",
    "\n",
    "tokenizer = AutoTokenizer.from_pretrained(\"mrm8488/distilroberta-finetuned-banking77\")\n",
    "model = AutoModelForSequenceClassification.from_pretrained(\"mrm8488/distilroberta-finetuned-banking77\")\n",
    "\n",
    "dataset = load_dataset(\"banking77\")"
   ]
  },
  {
   "cell_type": "code",
   "execution_count": 2,
   "metadata": {},
   "outputs": [],
   "source": [
    "def tokenize(batch):\n",
    "    return tokenizer(batch[\"text\"], padding=\"max_length\", truncation=True, max_length=128, return_tensors=\"pt\")\n",
    "\n",
    "\n",
    "dataset = dataset.map(tokenize, batched=True, batch_size=len(dataset))\n",
    "dataset.set_format(\"torch\", columns=[\"input_ids\", \"attention_mask\", \"label\"])"
   ]
  },
  {
   "cell_type": "code",
   "execution_count": 3,
   "metadata": {},
   "outputs": [],
   "source": [
    "class Banking77Dataset(Dataset):\n",
    "    def __init__(self, dataset, split=\"train\"):\n",
    "        self.dataset = dataset[split]\n",
    "\n",
    "    def __getitem__(self, idx):\n",
    "        label = self.dataset[idx][\"label\"]\n",
    "        input_ids = self.dataset[idx][\"input_ids\"]\n",
    "        attention_mask = self.dataset[idx][\"attention_mask\"]\n",
    "\n",
    "        return {\"input_ids\": input_ids, \"attention_mask\": attention_mask}, label\n",
    "\n",
    "    def __len__(self):\n",
    "        return len(self.dataset)"
   ]
  },
  {
   "cell_type": "code",
   "execution_count": 4,
   "metadata": {},
   "outputs": [],
   "source": [
    "dataset = dataset.shuffle()\n",
    "\n",
    "banking77_train = Banking77Dataset(dataset, split=\"train\")\n",
    "banking77_test = Banking77Dataset(dataset, split=\"test\")"
   ]
  },
  {
   "cell_type": "code",
   "execution_count": 6,
   "metadata": {},
   "outputs": [
    {
     "data": {
      "application/vnd.jupyter.widget-view+json": {
       "model_id": "b3a8dc9e327c4b839bc108a5f7165c1a",
       "version_major": 2,
       "version_minor": 0
      },
      "text/plain": [
       "  0%|          | 0/30809240 [00:00<?, ?it/s]"
      ]
     },
     "metadata": {},
     "output_type": "display_data"
    },
    {
     "ename": "",
     "evalue": "",
     "output_type": "error",
     "traceback": [
      "\u001b[1;31mThe Kernel crashed while executing code in the the current cell or a previous cell. Please review the code in the cell(s) to identify a possible cause of the failure. Click <a href='https://aka.ms/vscodeJupyterKernelCrash'>here</a> for more info. View Jupyter <a href='command:jupyter.viewOutput'>log</a> for further details."
     ]
    }
   ],
   "source": [
    "gradsim = HFSeqClfGradientSimilarity(\n",
    "    model, torch.nn.CrossEntropyLoss(), parameter_subset=[\"classifier.out_proj.weight\"], device=\"cpu\"\n",
    ")\n",
    "\n",
    "score_matrix = gradsim.score(\n",
    "    banking77_train,\n",
    "    banking77_test,\n",
    "    # subset_ids={\"train\": list(range(3000)), \"test\": list(range(1000))},\n",
    "    normalize=True,\n",
    "    chunk_size=100,\n",
    ")"
   ]
  },
  {
   "cell_type": "code",
   "execution_count": 15,
   "metadata": {},
   "outputs": [],
   "source": [
    "CS = (score_matrix.T.float() @ score_matrix.float()).half()"
   ]
  },
  {
   "cell_type": "code",
   "execution_count": 16,
   "metadata": {},
   "outputs": [],
   "source": [
    "G = nx.from_numpy_array(CS.numpy(), create_using=nx.DiGraph)\n",
    "G.remove_edges_from(nx.selfloop_edges(G))"
   ]
  },
  {
   "cell_type": "code",
   "execution_count": 20,
   "metadata": {},
   "outputs": [],
   "source": [
    "betweenness = pd.Series(nx.betweenness_centrality(G, weight=\"weight\"))"
   ]
  },
  {
   "cell_type": "code",
   "execution_count": 28,
   "metadata": {},
   "outputs": [],
   "source": [
    "df = pd.DataFrame(\n",
    "    {\n",
    "        \"betweenness\": betweenness,\n",
    "        \"text\": dataset[\"test\"].select(range(250))[\"text\"],\n",
    "        \"label\": dataset[\"test\"].select(range(250))[\"label\"],\n",
    "    }\n",
    ")"
   ]
  }
 ],
 "metadata": {
  "kernelspec": {
   "display_name": "playground",
   "language": "python",
   "name": "python3"
  },
  "language_info": {
   "codemirror_mode": {
    "name": "ipython",
    "version": 3
   },
   "file_extension": ".py",
   "mimetype": "text/x-python",
   "name": "python",
   "nbconvert_exporter": "python",
   "pygments_lexer": "ipython3",
   "version": "3.11.5"
  }
 },
 "nbformat": 4,
 "nbformat_minor": 2
}
